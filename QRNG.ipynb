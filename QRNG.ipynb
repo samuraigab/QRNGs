{
 "cells": [
  {
   "cell_type": "code",
   "execution_count": 1,
   "id": "bf82b7e2",
   "metadata": {},
   "outputs": [],
   "source": [
    "import numpy as np\n",
    "# Importing standard Qiskit libraries\n",
    "from qiskit import QuantumCircuit, transpile, Aer, IBMQ, execute\n",
    "from qiskit.tools.jupyter import *\n",
    "from qiskit.visualization import *\n",
    "from ibm_quantum_widgets import *\n",
    "\n",
    "# Loading your IBM Quantum account(s)\n",
    "provider = IBMQ.load_account()"
   ]
  },
  {
   "cell_type": "code",
   "execution_count": 10,
   "id": "9b6c871a",
   "metadata": {},
   "outputs": [
    {
     "name": "stderr",
     "output_type": "stream",
     "text": [
      "ibmqfactory.load_account:WARNING:2021-06-12 19:05:49,133: Credentials are already in use. The existing account in the session will be replaced.\n",
      "<ipython-input-10-fc7b22156010>:8: DeprecationWarning: The `backends` provider attribute is deprecated. Please use `provider.backend` (singular) instead. You can continue to use `provider.backends()` to retrieve all backends.\n",
      "  backend = rng_provider.backends.ibmq_jakarta\n"
     ]
    },
    {
     "name": "stdout",
     "output_type": "stream",
     "text": [
      "4.0\n"
     ]
    }
   ],
   "source": [
    "from qiskit import IBMQ\n",
    "from qiskit_rng import Generator\n",
    "\n",
    "IBMQ.load_account()\n",
    "rng_provider = IBMQ.get_provider(hub='ibm-q-research', group='inter-inst-phys-1', project='main')\n",
    "\n",
    "rng_provider = IBMQ.get_provider(hub='ibm-q-research')\n",
    "backend = rng_provider.backends.ibmq_jakarta\n",
    "\n",
    "# rng_provider = IBMQ.get_provider(hub='MY_HUB', group='MY_GROUP', project='MY_PROJECT')\n",
    "# backend = rng_provider.backends.ibmq_ourence\n",
    "\n",
    "generator = Generator(backend=backend)\n",
    "output = generator.sample(num_raw_bits=1024).block_until_ready()\n",
    "print(output.mermin_correlator)"
   ]
  },
  {
   "cell_type": "code",
   "execution_count": 3,
   "id": "997babb4",
   "metadata": {
    "scrolled": false
   },
   "outputs": [
    {
     "data": {
      "image/png": "[encoded data removed]",
      "text/plain": [
       "<Figure size 253.926x144.48 with 1 Axes>"
      ]
     },
     "execution_count": 3,
     "metadata": {},
     "output_type": "execute_result"
    }
   ],
   "source": [
    "n = 1\n",
    "qc = QuantumCircuit(n,n)\n",
    "qc.h(range(n))\n",
    "qc.barrier()\n",
    "qc.measure(range(n),range(n))\n",
    "qc.draw()"
   ]
  },
  {
   "cell_type": "code",
   "execution_count": 16,
   "id": "df276a0f",
   "metadata": {},
   "outputs": [
    {
     "data": {
      "text/plain": [
       "dict_values([1, 1, 1, 1, 0, 0, 1, 0, 1, 0])"
      ]
     },
     "execution_count": 16,
     "metadata": {},
     "output_type": "execute_result"
    }
   ],
   "source": [
    "n = 1\n",
    "def qrng(n,string):\n",
    "    res = {}\n",
    "    for i in range(string):\n",
    "        qc = QuantumCircuit(n,n)\n",
    "        qc.h(range(n))\n",
    "        qc.barrier()\n",
    "        qc.measure(range(n),range(n))\n",
    "        shots = 1\n",
    "        backend = Aer.get_backend('qasm_simulator')\n",
    "        result = execute(qc,backend, shots=shots).result().get_counts()\n",
    "        res[i] = int(list(result.keys())[0])\n",
    "    return res\n",
    "bins = qrng(1,10)\n",
    "bins.values()"
   ]
  },
  {
   "cell_type": "code",
   "execution_count": 15,
   "id": "070c22cd",
   "metadata": {},
   "outputs": [
    {
     "name": "stdout",
     "output_type": "stream",
     "text": [
      "{'1': 1}\n",
      "{'0': 1}\n"
     ]
    },
    {
     "data": {
      "text/plain": [
       "dict_values([1, 0])"
      ]
     },
     "execution_count": 15,
     "metadata": {},
     "output_type": "execute_result"
    }
   ],
   "source": [
    "from qiskit.providers.ibmq import least_busy\n",
    "\n",
    "provider = IBMQ.get_provider(hub='ibm-q-research', group='inter-inst-phys-1', project='main')\n",
    "provider.backends()\n",
    "\n",
    "def qrng_real(n,string):\n",
    "    res = {}\n",
    "    for i in range(string):\n",
    "        qc = QuantumCircuit(n,n)\n",
    "        qc.h(range(n))\n",
    "        qc.barrier()\n",
    "        qc.measure(range(n),range(n))\n",
    "        shots = 1\n",
    "        backend = least_busy(provider.backends(filters=lambda x: x.configuration().n_qubits <= 5 and\n",
    "                                   x.configuration().n_qubits >= 2 and\n",
    "                                   not x.configuration().simulator and x.status().operational==True))\n",
    "        job = execute(qc,backend, shots = 1)\n",
    "        result = job.result().get_counts()\n",
    "        print(result)\n",
    "        res[i] = int(list(result.keys())[0])\n",
    "    return res\n",
    "       \n",
    "bins = qrng_real(1,2)\n",
    "bins.values()\n"
   ]
  },
  {
   "cell_type": "markdown",
   "id": "ae8b612a",
   "metadata": {},
   "source": [
    "# Gerando números aleatórios inteiros"
   ]
  },
  {
   "cell_type": "code",
   "execution_count": 32,
   "id": "9c51c95c",
   "metadata": {},
   "outputs": [
    {
     "data": {
      "text/plain": [
       "dict_values([13, 14, 1, 10, 4, 15, 3, 1, 6, 6, 13, 1, 1, 2, 9, 1, 15, 5, 0, 5, 9, 7, 6, 5, 5, 9, 9, 11, 6, 3, 6, 5, 5, 6, 12, 14, 0, 8, 9, 13, 7, 8, 0, 12, 11, 7, 11, 9, 7, 5, 7, 1, 2, 3, 12, 13, 1, 7, 7, 14, 13, 11, 1, 10, 1, 15, 13, 8, 5, 14, 6, 6, 2, 9, 3, 9, 2, 2, 15, 5, 7, 4, 12, 8, 5, 14, 8, 14, 10, 3, 7, 0, 13, 12, 15, 1, 12, 10, 2, 11])"
      ]
     },
     "execution_count": 32,
     "metadata": {},
     "output_type": "execute_result"
    }
   ],
   "source": [
    "def qrng_int(n,string):\n",
    "    res = {}\n",
    "    for i in range(string):\n",
    "        qc = QuantumCircuit(n,n) #n qubits  e n classical bits\n",
    "        qc.h(range(n)) # todos os qubits em superposição\n",
    "        qc.barrier()\n",
    "        qc.measure(range(n),range(n)) #medindo os n qubits e guardando o resultado da medida nos bits classicos\n",
    "        \n",
    "        shots = 1\n",
    "        backend = Aer.get_backend('qasm_simulator')\n",
    "        result = execute(qc,backend, shots=shots).result().get_counts()\n",
    "        res[i] = int(list(result.keys())[0],2) #guardando estado medido e convertendo em binário\n",
    "    return res\n",
    "\n",
    "n = 4 #numero de qubits\n",
    "size = 100 #quantidade de numeros gerados\n",
    "ints = qrng_int(n,size)\n",
    "ints.values()"
   ]
  },
  {
   "cell_type": "code",
   "execution_count": 40,
   "id": "48fb8859",
   "metadata": {},
   "outputs": [
    {
     "data": {
      "image/png": "[encoded data removed]",
      "text/plain": [
       "<Figure size 206.997x264.88 with 1 Axes>"
      ]
     },
     "metadata": {},
     "output_type": "display_data"
    }
   ],
   "source": [
    "n = 4\n",
    "qc = QuantumCircuit(n)\n",
    "qc.h(range(n))\n",
    "qc.barrier()\n",
    "# qc.measure(range(n),range(n))\n",
    "display(qc.draw())"
   ]
  },
  {
   "cell_type": "code",
   "execution_count": 43,
   "id": "a66bd0cb",
   "metadata": {
    "scrolled": true
   },
   "outputs": [
    {
     "data": {
      "image/png": "[encoded data removed]",
      "text/plain": [
       "<Figure size 720x216 with 1 Axes>"
      ]
     },
     "metadata": {},
     "output_type": "display_data"
    },
    {
     "data": {
      "text/plain": [
       "0"
      ]
     },
     "execution_count": 43,
     "metadata": {},
     "output_type": "execute_result"
    }
   ],
   "source": [
    "backend = Aer.get_backend('statevector_simulator')\n",
    "result = execute(qc,backend).result().get_counts()\n",
    "display(plot_histogram(result,figsize= (10,3)))"
   ]
  },
  {
   "cell_type": "code",
   "execution_count": null,
   "id": "8160f536",
   "metadata": {},
   "outputs": [],
   "source": []
  }
 ],
 "metadata": {
  "kernelspec": {
   "display_name": "Python 3",
   "language": "python",
   "name": "python3"
  },
  "language_info": {
   "codemirror_mode": {
    "name": "ipython",
    "version": 3
   },
   "file_extension": ".py",
   "mimetype": "text/x-python",
   "name": "python",
   "nbconvert_exporter": "python",
   "pygments_lexer": "ipython3",
   "version": "3.8.10"
  }
 },
 "nbformat": 4,
 "nbformat_minor": 5
}
